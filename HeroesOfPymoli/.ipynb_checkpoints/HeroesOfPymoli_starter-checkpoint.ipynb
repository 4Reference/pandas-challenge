{
 "cells": [
  {
   "cell_type": "markdown",
   "metadata": {},
   "source": [
    "### Note\n",
    "* Instructions have been included for each segment. You do not have to follow them exactly, but they are included to help you think through the steps."
   ]
  },
  {
   "cell_type": "code",
   "execution_count": 2,
   "metadata": {},
   "outputs": [],
   "source": [
    "# Dependencies and Setup\n",
    "import pandas as pd\n",
    "\n",
    "# File to Load (Remember to Change These)\n",
    "file_to_load = \"Resources/purchase_data.csv\"\n",
    "\n",
    "# Read Purchasing File and store into Pandas data frame\n",
    "purchase_data = pd.read_csv(file_to_load)"
   ]
  },
  {
   "cell_type": "markdown",
   "metadata": {},
   "source": [
    "## Player Count"
   ]
  },
  {
   "cell_type": "markdown",
   "metadata": {},
   "source": [
    "* Display the total number of players\n"
   ]
  },
  {
   "cell_type": "code",
   "execution_count": 3,
   "metadata": {},
   "outputs": [
    {
     "data": {
      "text/html": [
       "<div>\n",
       "<style scoped>\n",
       "    .dataframe tbody tr th:only-of-type {\n",
       "        vertical-align: middle;\n",
       "    }\n",
       "\n",
       "    .dataframe tbody tr th {\n",
       "        vertical-align: top;\n",
       "    }\n",
       "\n",
       "    .dataframe thead th {\n",
       "        text-align: right;\n",
       "    }\n",
       "</style>\n",
       "<table border=\"1\" class=\"dataframe\">\n",
       "  <thead>\n",
       "    <tr style=\"text-align: right;\">\n",
       "      <th></th>\n",
       "      <th>Total Players</th>\n",
       "    </tr>\n",
       "  </thead>\n",
       "  <tbody>\n",
       "    <tr>\n",
       "      <td>0</td>\n",
       "      <td>576</td>\n",
       "    </tr>\n",
       "  </tbody>\n",
       "</table>\n",
       "</div>"
      ],
      "text/plain": [
       "   Total Players\n",
       "0            576"
      ]
     },
     "execution_count": 3,
     "metadata": {},
     "output_type": "execute_result"
    }
   ],
   "source": [
    "player_data = purchase_data.groupby(['SN'])\n",
    "player_count = len(player_data.nunique())\n",
    "pdt = pd.DataFrame({\"Total Players\": [player_count]})\n",
    "pdt"
   ]
  },
  {
   "cell_type": "markdown",
   "metadata": {},
   "source": [
    "## Purchasing Analysis (Total)"
   ]
  },
  {
   "cell_type": "markdown",
   "metadata": {},
   "source": [
    "* Run basic calculations to obtain number of unique items, average price, etc.\n",
    "\n",
    "\n",
    "* Create a summary data frame to hold the results\n",
    "\n",
    "\n",
    "* Optional: give the displayed data cleaner formatting\n",
    "\n",
    "\n",
    "* Display the summary data frame\n"
   ]
  },
  {
   "cell_type": "code",
   "execution_count": 4,
   "metadata": {},
   "outputs": [
    {
     "data": {
      "text/html": [
       "<div>\n",
       "<style scoped>\n",
       "    .dataframe tbody tr th:only-of-type {\n",
       "        vertical-align: middle;\n",
       "    }\n",
       "\n",
       "    .dataframe tbody tr th {\n",
       "        vertical-align: top;\n",
       "    }\n",
       "\n",
       "    .dataframe thead th {\n",
       "        text-align: right;\n",
       "    }\n",
       "</style>\n",
       "<table border=\"1\" class=\"dataframe\">\n",
       "  <thead>\n",
       "    <tr style=\"text-align: right;\">\n",
       "      <th></th>\n",
       "      <th>Number of Unique Items</th>\n",
       "      <th>Average Price</th>\n",
       "      <th>Number of Purchases</th>\n",
       "      <th>Total Revenue</th>\n",
       "    </tr>\n",
       "  </thead>\n",
       "  <tbody>\n",
       "    <tr>\n",
       "      <td>0</td>\n",
       "      <td>183</td>\n",
       "      <td>$3.05</td>\n",
       "      <td>780</td>\n",
       "      <td>$2379.77</td>\n",
       "    </tr>\n",
       "  </tbody>\n",
       "</table>\n",
       "</div>"
      ],
      "text/plain": [
       "   Number of Unique Items Average Price  Number of Purchases Total Revenue\n",
       "0                     183         $3.05                  780      $2379.77"
      ]
     },
     "execution_count": 4,
     "metadata": {},
     "output_type": "execute_result"
    }
   ],
   "source": [
    "item_count = purchase_data['Item ID'].nunique()\n",
    "avg_price = round(purchase_data['Price'].mean(),2)\n",
    "tot_count = purchase_data['Price'].count()\n",
    "tot_sale = purchase_data['Price'].sum()\n",
    "pasdf = pd.DataFrame({\"Number of Unique Items\": [item_count], \"Average Price\": f'${avg_price}', \n",
    "                    \"Number of Purchases\": [tot_count], \"Total Revenue\": f'${tot_sale}'})\n",
    "pasdf"
   ]
  },
  {
   "cell_type": "markdown",
   "metadata": {},
   "source": [
    "## Gender Demographics"
   ]
  },
  {
   "cell_type": "markdown",
   "metadata": {},
   "source": [
    "* Percentage and Count of Male Players\n",
    "\n",
    "\n",
    "* Percentage and Count of Female Players\n",
    "\n",
    "\n",
    "* Percentage and Count of Other / Non-Disclosed\n",
    "\n",
    "\n"
   ]
  },
  {
   "cell_type": "code",
   "execution_count": 43,
   "metadata": {},
   "outputs": [
    {
     "data": {
      "text/html": [
       "<div>\n",
       "<style scoped>\n",
       "    .dataframe tbody tr th:only-of-type {\n",
       "        vertical-align: middle;\n",
       "    }\n",
       "\n",
       "    .dataframe tbody tr th {\n",
       "        vertical-align: top;\n",
       "    }\n",
       "\n",
       "    .dataframe thead th {\n",
       "        text-align: right;\n",
       "    }\n",
       "</style>\n",
       "<table border=\"1\" class=\"dataframe\">\n",
       "  <thead>\n",
       "    <tr style=\"text-align: right;\">\n",
       "      <th></th>\n",
       "      <th>Total Count</th>\n",
       "      <th>Percentage of Players</th>\n",
       "    </tr>\n",
       "    <tr>\n",
       "      <th></th>\n",
       "      <th></th>\n",
       "      <th></th>\n",
       "    </tr>\n",
       "  </thead>\n",
       "  <tbody>\n",
       "    <tr>\n",
       "      <td>Male</td>\n",
       "      <td>484</td>\n",
       "      <td>84.03%</td>\n",
       "    </tr>\n",
       "    <tr>\n",
       "      <td>Female</td>\n",
       "      <td>81</td>\n",
       "      <td>14.06%</td>\n",
       "    </tr>\n",
       "    <tr>\n",
       "      <td>Other/Non-Disclosed</td>\n",
       "      <td>11</td>\n",
       "      <td>1.91%</td>\n",
       "    </tr>\n",
       "  </tbody>\n",
       "</table>\n",
       "</div>"
      ],
      "text/plain": [
       "                     Total Count Percentage of Players\n",
       "                                                      \n",
       "Male                         484                84.03%\n",
       "Female                        81                14.06%\n",
       "Other/Non-Disclosed           11                 1.91%"
      ]
     },
     "execution_count": 43,
     "metadata": {},
     "output_type": "execute_result"
    }
   ],
   "source": [
    "gender_data = purchase_data.loc[:, [\"Gender\", \"SN\"]]\n",
    "gender_data = gender_data.drop_duplicates()\n",
    "gender_data = gender_data.drop(columns=\"SN\")\n",
    "total_count = gender_data.count()\n",
    "male_count = int(gender_data.loc[gender_data['Gender'] == 'Male'].count())\n",
    "male_pct = float(round((male_count/total_count)*100,2).values)\n",
    "female_count = int(gender_data.loc[gender_data['Gender'] == 'Female'].count())\n",
    "female_pct = float(round((female_count/total_count)*100,2).values)\n",
    "other_count = int(gender_data.loc[gender_data['Gender'] == 'Other / Non-Disclosed'].count())\n",
    "other_pct = float(round((gender_data.loc[gender_data['Gender'] == 'Other / Non-Disclosed'].count()/gender_data['Gender'].count())*100,2).values)\n",
    "gender_demo = pd.DataFrame({\"\": ['Male', 'Female', 'Other/Non-Disclosed'],\n",
    "                            \"Total Count\": [male_count, female_count, other_count],     \n",
    "                            \"Percentage of Players\": [male_pct, female_pct, other_pct]})\n",
    "gender_demo[\"Percentage of Players\"] = gender_demo[\"Percentage of Players\"].map(\"{:.2f}%\".format)\n",
    "gender_demo = gender_demo.set_index('')\n",
    "gender_demo\n"
   ]
  },
  {
   "cell_type": "code",
   "execution_count": 46,
   "metadata": {},
   "outputs": [
    {
     "data": {
      "text/html": [
       "<div>\n",
       "<style scoped>\n",
       "    .dataframe tbody tr th:only-of-type {\n",
       "        vertical-align: middle;\n",
       "    }\n",
       "\n",
       "    .dataframe tbody tr th {\n",
       "        vertical-align: top;\n",
       "    }\n",
       "\n",
       "    .dataframe thead th {\n",
       "        text-align: right;\n",
       "    }\n",
       "</style>\n",
       "<table border=\"1\" class=\"dataframe\">\n",
       "  <thead>\n",
       "    <tr style=\"text-align: right;\">\n",
       "      <th></th>\n",
       "      <th>Total Count</th>\n",
       "      <th>Percentage of Players</th>\n",
       "    </tr>\n",
       "    <tr>\n",
       "      <th>Gender</th>\n",
       "      <th></th>\n",
       "      <th></th>\n",
       "    </tr>\n",
       "  </thead>\n",
       "  <tbody>\n",
       "    <tr>\n",
       "      <td>Female</td>\n",
       "      <td>81</td>\n",
       "      <td>14.06%</td>\n",
       "    </tr>\n",
       "    <tr>\n",
       "      <td>Male</td>\n",
       "      <td>484</td>\n",
       "      <td>84.03%</td>\n",
       "    </tr>\n",
       "    <tr>\n",
       "      <td>Other / Non-Disclosed</td>\n",
       "      <td>11</td>\n",
       "      <td>1.91%</td>\n",
       "    </tr>\n",
       "  </tbody>\n",
       "</table>\n",
       "</div>"
      ],
      "text/plain": [
       "                       Total Count Percentage of Players\n",
       "Gender                                                  \n",
       "Female                          81                14.06%\n",
       "Male                           484                84.03%\n",
       "Other / Non-Disclosed           11                 1.91%"
      ]
     },
     "execution_count": 46,
     "metadata": {},
     "output_type": "execute_result"
    }
   ],
   "source": [
    "gender_data = purchase_data.loc[:, [\"Gender\", \"SN\"]]\n",
    "gender_data = gender_data.drop_duplicates()\n",
    "gender_data = gender_data.drop(columns=\"SN\")\n",
    "gender_count = gender_data.groupby(['Gender'])\n",
    "gdatacount = gender_count['Gender'].count()\n",
    "gdatapercent = round((gender_count['Gender'].count()/gender_data['Gender'].count())*100,2).map(\"{:.2f}%\".format)\n",
    "gdf = pd.DataFrame({'Total Count':gdatacount,'Percentage of Players':gdatapercent})\n",
    "gdf"
   ]
  },
  {
   "cell_type": "markdown",
   "metadata": {},
   "source": [
    "\n",
    "## Purchasing Analysis (Gender)"
   ]
  },
  {
   "cell_type": "markdown",
   "metadata": {},
   "source": [
    "* Run basic calculations to obtain purchase count, avg. purchase price, avg. purchase total per person etc. by gender\n",
    "\n",
    "\n",
    "\n",
    "\n",
    "* Create a summary data frame to hold the results\n",
    "\n",
    "\n",
    "* Optional: give the displayed data cleaner formatting\n",
    "\n",
    "\n",
    "* Display the summary data frame"
   ]
  },
  {
   "cell_type": "code",
   "execution_count": 9,
   "metadata": {},
   "outputs": [
    {
     "data": {
      "text/html": [
       "<div>\n",
       "<style scoped>\n",
       "    .dataframe tbody tr th:only-of-type {\n",
       "        vertical-align: middle;\n",
       "    }\n",
       "\n",
       "    .dataframe tbody tr th {\n",
       "        vertical-align: top;\n",
       "    }\n",
       "\n",
       "    .dataframe thead th {\n",
       "        text-align: right;\n",
       "    }\n",
       "</style>\n",
       "<table border=\"1\" class=\"dataframe\">\n",
       "  <thead>\n",
       "    <tr style=\"text-align: right;\">\n",
       "      <th></th>\n",
       "      <th>Purchase Count</th>\n",
       "      <th>Average Purchase Price</th>\n",
       "      <th>Total Purchase Value</th>\n",
       "      <th>Avg Total Purchase per Person</th>\n",
       "    </tr>\n",
       "    <tr>\n",
       "      <th>Gender</th>\n",
       "      <th></th>\n",
       "      <th></th>\n",
       "      <th></th>\n",
       "      <th></th>\n",
       "    </tr>\n",
       "  </thead>\n",
       "  <tbody>\n",
       "    <tr>\n",
       "      <td>Female</td>\n",
       "      <td>113</td>\n",
       "      <td>$3.20</td>\n",
       "      <td>$361.94</td>\n",
       "      <td>$4.47</td>\n",
       "    </tr>\n",
       "    <tr>\n",
       "      <td>Male</td>\n",
       "      <td>652</td>\n",
       "      <td>$3.02</td>\n",
       "      <td>$1,967.64</td>\n",
       "      <td>$4.07</td>\n",
       "    </tr>\n",
       "    <tr>\n",
       "      <td>Other / Non-Disclosed</td>\n",
       "      <td>15</td>\n",
       "      <td>$3.35</td>\n",
       "      <td>$50.19</td>\n",
       "      <td>$4.56</td>\n",
       "    </tr>\n",
       "  </tbody>\n",
       "</table>\n",
       "</div>"
      ],
      "text/plain": [
       "                       Purchase Count Average Purchase Price  \\\n",
       "Gender                                                         \n",
       "Female                            113                  $3.20   \n",
       "Male                              652                  $3.02   \n",
       "Other / Non-Disclosed              15                  $3.35   \n",
       "\n",
       "                      Total Purchase Value Avg Total Purchase per Person  \n",
       "Gender                                                                    \n",
       "Female                             $361.94                         $4.47  \n",
       "Male                             $1,967.64                         $4.07  \n",
       "Other / Non-Disclosed               $50.19                         $4.56  "
      ]
     },
     "execution_count": 9,
     "metadata": {},
     "output_type": "execute_result"
    }
   ],
   "source": [
    "buyer_gap_data = purchase_data.loc[:, [\"Gender\", \"SN\"]]\n",
    "buyer_gap_data = buyer_gap_data.drop_duplicates()\n",
    "gender_count = buyer_gap_data.groupby(['Gender'])\n",
    "gdatacount = gender_count['Gender'].count()\n",
    "gender_data = purchase_data.groupby(['Gender'])\n",
    "gender_purchase = gender_data['Gender'].count()\n",
    "avg_purch_price = round(gender_data['Price'].mean(),2).map(\"${:,.2f}\".format)\n",
    "total_purch_price = gender_data['Price'].sum().map(\"${:,.2f}\".format)\n",
    "avg_tot_purch = round(gender_data['Price'].sum()/gdatacount,2).map(\"${:,.2f}\".format)\n",
    "sumdf = pd.DataFrame({'Purchase Count':gender_purchase,'Average Purchase Price':avg_purch_price,\n",
    "                           'Total Purchase Value':total_purch_price,'Avg Total Purchase per Person':avg_tot_purch})\n",
    "#sumdf = pd.concat([gender_purchase,avg_purch_price,total_purch_price,avg_tot_purch],axis=1)\n",
    "#cols=pd.Series(sumdf.columns)\n",
    "#for dup in cols[cols.duplicated()].unique(): \n",
    "#    cols[cols[cols == dup].index.values.tolist()] = [dup + '.' + str(i) if i != 0 else dup for i in range(sum(cols == dup))]\n",
    "#sumdf.columns=cols\n",
    "#sumdf.rename(columns = {list(sumdf)[0]: 'Purchase Count',list(sumdf)[1]: 'Average Purchase Price',list(sumdf)[2]: 'Total Purchase Value',list(sumdf)[3]: 'Avg Total Purchase per Person'}, inplace = True)\n",
    "sumdf"
   ]
  },
  {
   "cell_type": "markdown",
   "metadata": {},
   "source": [
    "## Age Demographics"
   ]
  },
  {
   "cell_type": "markdown",
   "metadata": {},
   "source": [
    "* Establish bins for ages\n",
    "\n",
    "\n",
    "* Categorize the existing players using the age bins. Hint: use pd.cut()\n",
    "\n",
    "\n",
    "* Calculate the numbers and percentages by age group\n",
    "\n",
    "\n",
    "* Create a summary data frame to hold the results\n",
    "\n",
    "\n",
    "* Optional: round the percentage column to two decimal points\n",
    "\n",
    "\n",
    "* Display Age Demographics Table\n"
   ]
  },
  {
   "cell_type": "code",
   "execution_count": 24,
   "metadata": {},
   "outputs": [
    {
     "data": {
      "text/html": [
       "<div>\n",
       "<style scoped>\n",
       "    .dataframe tbody tr th:only-of-type {\n",
       "        vertical-align: middle;\n",
       "    }\n",
       "\n",
       "    .dataframe tbody tr th {\n",
       "        vertical-align: top;\n",
       "    }\n",
       "\n",
       "    .dataframe thead th {\n",
       "        text-align: right;\n",
       "    }\n",
       "</style>\n",
       "<table border=\"1\" class=\"dataframe\">\n",
       "  <thead>\n",
       "    <tr style=\"text-align: right;\">\n",
       "      <th></th>\n",
       "      <th>Total Count</th>\n",
       "      <th>Percentage of Players</th>\n",
       "    </tr>\n",
       "    <tr>\n",
       "      <th>Age Range</th>\n",
       "      <th></th>\n",
       "      <th></th>\n",
       "    </tr>\n",
       "  </thead>\n",
       "  <tbody>\n",
       "    <tr>\n",
       "      <td>&lt;10</td>\n",
       "      <td>17</td>\n",
       "      <td>2.95%</td>\n",
       "    </tr>\n",
       "    <tr>\n",
       "      <td>10-14</td>\n",
       "      <td>22</td>\n",
       "      <td>3.82%</td>\n",
       "    </tr>\n",
       "    <tr>\n",
       "      <td>15-19</td>\n",
       "      <td>107</td>\n",
       "      <td>18.58%</td>\n",
       "    </tr>\n",
       "    <tr>\n",
       "      <td>20-24</td>\n",
       "      <td>258</td>\n",
       "      <td>44.79%</td>\n",
       "    </tr>\n",
       "    <tr>\n",
       "      <td>25-29</td>\n",
       "      <td>77</td>\n",
       "      <td>13.37%</td>\n",
       "    </tr>\n",
       "    <tr>\n",
       "      <td>30-34</td>\n",
       "      <td>52</td>\n",
       "      <td>9.03%</td>\n",
       "    </tr>\n",
       "    <tr>\n",
       "      <td>35-39</td>\n",
       "      <td>31</td>\n",
       "      <td>5.38%</td>\n",
       "    </tr>\n",
       "    <tr>\n",
       "      <td>40+</td>\n",
       "      <td>12</td>\n",
       "      <td>2.08%</td>\n",
       "    </tr>\n",
       "  </tbody>\n",
       "</table>\n",
       "</div>"
      ],
      "text/plain": [
       "           Total Count Percentage of Players\n",
       "Age Range                                   \n",
       "<10                 17                 2.95%\n",
       "10-14               22                 3.82%\n",
       "15-19              107                18.58%\n",
       "20-24              258                44.79%\n",
       "25-29               77                13.37%\n",
       "30-34               52                 9.03%\n",
       "35-39               31                 5.38%\n",
       "40+                 12                 2.08%"
      ]
     },
     "execution_count": 24,
     "metadata": {},
     "output_type": "execute_result"
    }
   ],
   "source": [
    "age_data = purchase_data.loc[:, [\"Age\", \"SN\"]]\n",
    "age_data = age_data.drop_duplicates()\n",
    "age_data.drop(columns='SN',axis=1,inplace=True)\n",
    "age_count = age_data.size\n",
    "maxage = age_data['Age'].max()+1\n",
    "bins = [0,9,14,19,24,29,34,39,maxage]\n",
    "age_range = [\"<10\", \"10-14\", \"15-19\" , \"20-24\" , \"25-29\" , \"30-34\" , \"35-39\" , \"40+\"]\n",
    "age_data[\"Age Range\"] = pd.cut(age_data[\"Age\"], bins, labels=age_range)\n",
    "sorted_age_data = age_data.groupby(['Age Range'])\n",
    "sorted_age_count = sorted_age_data.count()\n",
    "pctsorted_age_data = round((sorted_age_data[\"Age\"].count()/age_count)*100,2).map(\"{:.2f}%\".format)\n",
    "agedemodf = pd.concat([sorted_age_count,pctsorted_age_data],axis=1)\n",
    "cols=pd.Series(agedemodf.columns)\n",
    "for dup in cols[cols.duplicated()].unique(): \n",
    "    cols[cols[cols == dup].index.values.tolist()] = [dup + '.' + str(i) if i != 0 else dup for i in range(sum(cols == dup))]\n",
    "agedemodf.columns=cols\n",
    "agedemodf.rename(columns = {list(agedemodf)[0]: 'Total Count',list(agedemodf)[1]: 'Percentage of Players'}, inplace = True)\n",
    "agedemodf"
   ]
  },
  {
   "cell_type": "markdown",
   "metadata": {},
   "source": [
    "## Purchasing Analysis (Age)"
   ]
  },
  {
   "cell_type": "markdown",
   "metadata": {},
   "source": [
    "* Bin the purchase_data data frame by age\n",
    "\n",
    "\n",
    "* Run basic calculations to obtain purchase count, avg. purchase price, avg. purchase total per person etc. in the table below\n",
    "\n",
    "\n",
    "* Create a summary data frame to hold the results\n",
    "\n",
    "\n",
    "* Optional: give the displayed data cleaner formatting\n",
    "\n",
    "\n",
    "* Display the summary data frame"
   ]
  },
  {
   "cell_type": "code",
   "execution_count": 8,
   "metadata": {},
   "outputs": [
    {
     "data": {
      "text/html": [
       "<div>\n",
       "<style scoped>\n",
       "    .dataframe tbody tr th:only-of-type {\n",
       "        vertical-align: middle;\n",
       "    }\n",
       "\n",
       "    .dataframe tbody tr th {\n",
       "        vertical-align: top;\n",
       "    }\n",
       "\n",
       "    .dataframe thead th {\n",
       "        text-align: right;\n",
       "    }\n",
       "</style>\n",
       "<table border=\"1\" class=\"dataframe\">\n",
       "  <thead>\n",
       "    <tr style=\"text-align: right;\">\n",
       "      <th></th>\n",
       "      <th>Purchase Count</th>\n",
       "      <th>Average Purchase Price</th>\n",
       "      <th>Total Purchase Value</th>\n",
       "      <th>Avg Total Purchase per Person</th>\n",
       "    </tr>\n",
       "    <tr>\n",
       "      <th>Age Range</th>\n",
       "      <th></th>\n",
       "      <th></th>\n",
       "      <th></th>\n",
       "      <th></th>\n",
       "    </tr>\n",
       "  </thead>\n",
       "  <tbody>\n",
       "    <tr>\n",
       "      <td>&lt;10</td>\n",
       "      <td>23</td>\n",
       "      <td>$3.35</td>\n",
       "      <td>$77.13</td>\n",
       "      <td>$4.54</td>\n",
       "    </tr>\n",
       "    <tr>\n",
       "      <td>10-14</td>\n",
       "      <td>28</td>\n",
       "      <td>$2.96</td>\n",
       "      <td>$82.78</td>\n",
       "      <td>$3.76</td>\n",
       "    </tr>\n",
       "    <tr>\n",
       "      <td>15-19</td>\n",
       "      <td>136</td>\n",
       "      <td>$3.04</td>\n",
       "      <td>$412.89</td>\n",
       "      <td>$3.86</td>\n",
       "    </tr>\n",
       "    <tr>\n",
       "      <td>20-24</td>\n",
       "      <td>365</td>\n",
       "      <td>$3.05</td>\n",
       "      <td>$1,114.06</td>\n",
       "      <td>$4.32</td>\n",
       "    </tr>\n",
       "    <tr>\n",
       "      <td>25-29</td>\n",
       "      <td>101</td>\n",
       "      <td>$2.90</td>\n",
       "      <td>$293.00</td>\n",
       "      <td>$3.81</td>\n",
       "    </tr>\n",
       "    <tr>\n",
       "      <td>30-34</td>\n",
       "      <td>73</td>\n",
       "      <td>$2.93</td>\n",
       "      <td>$214.00</td>\n",
       "      <td>$4.12</td>\n",
       "    </tr>\n",
       "    <tr>\n",
       "      <td>35-39</td>\n",
       "      <td>41</td>\n",
       "      <td>$3.60</td>\n",
       "      <td>$147.67</td>\n",
       "      <td>$4.76</td>\n",
       "    </tr>\n",
       "    <tr>\n",
       "      <td>40+</td>\n",
       "      <td>13</td>\n",
       "      <td>$2.94</td>\n",
       "      <td>$38.24</td>\n",
       "      <td>$3.19</td>\n",
       "    </tr>\n",
       "  </tbody>\n",
       "</table>\n",
       "</div>"
      ],
      "text/plain": [
       "           Purchase Count Average Purchase Price Total Purchase Value  \\\n",
       "Age Range                                                               \n",
       "<10                    23                  $3.35               $77.13   \n",
       "10-14                  28                  $2.96               $82.78   \n",
       "15-19                 136                  $3.04              $412.89   \n",
       "20-24                 365                  $3.05            $1,114.06   \n",
       "25-29                 101                  $2.90              $293.00   \n",
       "30-34                  73                  $2.93              $214.00   \n",
       "35-39                  41                  $3.60              $147.67   \n",
       "40+                    13                  $2.94               $38.24   \n",
       "\n",
       "          Avg Total Purchase per Person  \n",
       "Age Range                                \n",
       "<10                               $4.54  \n",
       "10-14                             $3.76  \n",
       "15-19                             $3.86  \n",
       "20-24                             $4.32  \n",
       "25-29                             $3.81  \n",
       "30-34                             $4.12  \n",
       "35-39                             $4.76  \n",
       "40+                               $3.19  "
      ]
     },
     "execution_count": 8,
     "metadata": {},
     "output_type": "execute_result"
    }
   ],
   "source": [
    "age_purch_data = purchase_data.loc[:, [\"Age\",\"Price\"]]\n",
    "maxage = age_purch_data['Age'].max()+1\n",
    "bins = [0,9,14,19,24,29,34,39,maxage]\n",
    "age_range = [\"<10\", \"10-14\", \"15-19\" , \"20-24\" , \"25-29\" , \"30-34\" , \"35-39\" , \"40+\"]\n",
    "age_purch_data[\"Age Range\"] = pd.cut(age_purch_data[\"Age\"], bins, labels=age_range)\n",
    "sorted_age_purch = age_purch_data.groupby([\"Age Range\"])\n",
    "age_purch_count = sorted_age_purch[\"Age\"].count()\n",
    "age_purch_sum = sorted_age_purch[\"Price\"].sum().map(\"${:,.2f}\".format)\n",
    "avgSortedAgePurch = sorted_age_purch[\"Price\"].mean().map(\"${:,.2f}\".format)\n",
    "ppavgSortedAgePurch = (sorted_age_purch[\"Price\"].sum()/sorted_age_data[\"Age\"].count()).map(\"${:,.2f}\".format)\n",
    "agepurchdf = pd.DataFrame({'Purchase Count':age_purch_count,'Average Purchase Price':avgSortedAgePurch,\n",
    "                           'Total Purchase Value':age_purch_sum,'Avg Total Purchase per Person':ppavgSortedAgePurch})\n",
    "#agepurchdf = pd.concat([age_purch_count,avgSortedAgePurch,age_purch_sum,ppavgSortedAgePurch],axis=1)\n",
    "#cols=pd.Series(agepurchdf.columns)\n",
    "#for dup in cols[cols.duplicated()].unique(): \n",
    "#    cols[cols[cols == dup].index.values.tolist()] = [dup + '.' + str(i) if i != 0 else dup for i in range(sum(cols == dup))]\n",
    "#agepurchdf.columns=cols\n",
    "#agepurchdf.rename(columns = {list(agepurchdf)[0]: 'Purchase Count',list(agepurchdf)[1]: 'Average Purchase Price',\n",
    "#                             list(agepurchdf)[2]: 'Total Purchase Value',list(agepurchdf)[3]: 'Avg Total Purchase per Person'},\n",
    "#                  inplace = True)\n",
    "agepurchdf"
   ]
  },
  {
   "cell_type": "code",
   "execution_count": null,
   "metadata": {},
   "outputs": [],
   "source": []
  },
  {
   "cell_type": "markdown",
   "metadata": {},
   "source": [
    "## Top Spenders"
   ]
  },
  {
   "cell_type": "markdown",
   "metadata": {},
   "source": [
    "* Run basic calculations to obtain the results in the table below\n",
    "\n",
    "\n",
    "* Create a summary data frame to hold the results\n",
    "\n",
    "\n",
    "* Sort the total purchase value column in descending order\n",
    "\n",
    "\n",
    "* Optional: give the displayed data cleaner formatting\n",
    "\n",
    "\n",
    "* Display a preview of the summary data frame\n",
    "\n"
   ]
  },
  {
   "cell_type": "code",
   "execution_count": 13,
   "metadata": {},
   "outputs": [
    {
     "data": {
      "text/html": [
       "<style  type=\"text/css\" >\n",
       "</style><table id=\"T_62c430f0_342c_11ea_8bec_f8cab850e05b\" ><thead>    <tr>        <th class=\"blank level0\" ></th>        <th class=\"col_heading level0 col0\" >Purchase Count</th>        <th class=\"col_heading level0 col1\" >Average Purchase Price</th>        <th class=\"col_heading level0 col2\" >Total Purchase Value</th>    </tr>    <tr>        <th class=\"index_name level0\" >SN</th>        <th class=\"blank\" ></th>        <th class=\"blank\" ></th>        <th class=\"blank\" ></th>    </tr></thead><tbody>\n",
       "                <tr>\n",
       "                        <th id=\"T_62c430f0_342c_11ea_8bec_f8cab850e05blevel0_row0\" class=\"row_heading level0 row0\" >Lisosia93</th>\n",
       "                        <td id=\"T_62c430f0_342c_11ea_8bec_f8cab850e05brow0_col0\" class=\"data row0 col0\" >5</td>\n",
       "                        <td id=\"T_62c430f0_342c_11ea_8bec_f8cab850e05brow0_col1\" class=\"data row0 col1\" >$3.79</td>\n",
       "                        <td id=\"T_62c430f0_342c_11ea_8bec_f8cab850e05brow0_col2\" class=\"data row0 col2\" >$18.96</td>\n",
       "            </tr>\n",
       "            <tr>\n",
       "                        <th id=\"T_62c430f0_342c_11ea_8bec_f8cab850e05blevel0_row1\" class=\"row_heading level0 row1\" >Idastidru52</th>\n",
       "                        <td id=\"T_62c430f0_342c_11ea_8bec_f8cab850e05brow1_col0\" class=\"data row1 col0\" >4</td>\n",
       "                        <td id=\"T_62c430f0_342c_11ea_8bec_f8cab850e05brow1_col1\" class=\"data row1 col1\" >$3.86</td>\n",
       "                        <td id=\"T_62c430f0_342c_11ea_8bec_f8cab850e05brow1_col2\" class=\"data row1 col2\" >$15.45</td>\n",
       "            </tr>\n",
       "            <tr>\n",
       "                        <th id=\"T_62c430f0_342c_11ea_8bec_f8cab850e05blevel0_row2\" class=\"row_heading level0 row2\" >Chamjask73</th>\n",
       "                        <td id=\"T_62c430f0_342c_11ea_8bec_f8cab850e05brow2_col0\" class=\"data row2 col0\" >3</td>\n",
       "                        <td id=\"T_62c430f0_342c_11ea_8bec_f8cab850e05brow2_col1\" class=\"data row2 col1\" >$4.61</td>\n",
       "                        <td id=\"T_62c430f0_342c_11ea_8bec_f8cab850e05brow2_col2\" class=\"data row2 col2\" >$13.83</td>\n",
       "            </tr>\n",
       "            <tr>\n",
       "                        <th id=\"T_62c430f0_342c_11ea_8bec_f8cab850e05blevel0_row3\" class=\"row_heading level0 row3\" >Iral74</th>\n",
       "                        <td id=\"T_62c430f0_342c_11ea_8bec_f8cab850e05brow3_col0\" class=\"data row3 col0\" >4</td>\n",
       "                        <td id=\"T_62c430f0_342c_11ea_8bec_f8cab850e05brow3_col1\" class=\"data row3 col1\" >$3.40</td>\n",
       "                        <td id=\"T_62c430f0_342c_11ea_8bec_f8cab850e05brow3_col2\" class=\"data row3 col2\" >$13.62</td>\n",
       "            </tr>\n",
       "            <tr>\n",
       "                        <th id=\"T_62c430f0_342c_11ea_8bec_f8cab850e05blevel0_row4\" class=\"row_heading level0 row4\" >Iskadarya95</th>\n",
       "                        <td id=\"T_62c430f0_342c_11ea_8bec_f8cab850e05brow4_col0\" class=\"data row4 col0\" >3</td>\n",
       "                        <td id=\"T_62c430f0_342c_11ea_8bec_f8cab850e05brow4_col1\" class=\"data row4 col1\" >$4.37</td>\n",
       "                        <td id=\"T_62c430f0_342c_11ea_8bec_f8cab850e05brow4_col2\" class=\"data row4 col2\" >$13.10</td>\n",
       "            </tr>\n",
       "    </tbody></table>"
      ],
      "text/plain": [
       "<pandas.io.formats.style.Styler at 0x1a7d83920c8>"
      ]
     },
     "execution_count": 13,
     "metadata": {},
     "output_type": "execute_result"
    }
   ],
   "source": [
    "spender = purchase_data.groupby(\"SN\")\n",
    "purc_spender = spender[\"Purchase ID\"].count()\n",
    "avg_spender = spender[\"Price\"].mean()\n",
    "total_spender = spender[\"Price\"].sum()\n",
    "top_spenders = pd.DataFrame({\"Purchase Count\": purc_spender,\"Average Purchase Price\": avg_spender,\n",
    "                             \"Total Purchase Value\":total_spender})\n",
    "formatted_spenders = top_spenders.sort_values([\"Total Purchase Value\"], ascending=False).head()\n",
    "formatted_spenders.style.format({\"Average Purchase Total\":\"${:,.2f}\",\"Average Purchase Price\":\"${:,.2f}\", \n",
    "                                 \"Total Purchase Value\":\"${:,.2f}\"})"
   ]
  },
  {
   "cell_type": "code",
   "execution_count": null,
   "metadata": {},
   "outputs": [],
   "source": []
  },
  {
   "cell_type": "markdown",
   "metadata": {},
   "source": [
    "## Most Popular Items"
   ]
  },
  {
   "cell_type": "markdown",
   "metadata": {},
   "source": [
    "* Retrieve the Item ID, Item Name, and Item Price columns\n",
    "\n",
    "\n",
    "* Group by Item ID and Item Name. Perform calculations to obtain purchase count, item price, and total purchase value\n",
    "\n",
    "\n",
    "* Create a summary data frame to hold the results\n",
    "\n",
    "\n",
    "* Sort the purchase count column in descending order\n",
    "\n",
    "\n",
    "* Optional: give the displayed data cleaner formatting\n",
    "\n",
    "\n",
    "* Display a preview of the summary data frame\n",
    "\n"
   ]
  },
  {
   "cell_type": "code",
   "execution_count": 15,
   "metadata": {},
   "outputs": [
    {
     "data": {
      "text/html": [
       "<style  type=\"text/css\" >\n",
       "</style><table id=\"T_6f00c3ac_342c_11ea_be63_f8cab850e05b\" ><thead>    <tr>        <th class=\"blank\" ></th>        <th class=\"blank level0\" ></th>        <th class=\"col_heading level0 col0\" >Purchase Count</th>        <th class=\"col_heading level0 col1\" >Item Price</th>        <th class=\"col_heading level0 col2\" >Total Purchase Value</th>    </tr>    <tr>        <th class=\"index_name level0\" >Item ID</th>        <th class=\"index_name level1\" >Item Name</th>        <th class=\"blank\" ></th>        <th class=\"blank\" ></th>        <th class=\"blank\" ></th>    </tr></thead><tbody>\n",
       "                <tr>\n",
       "                        <th id=\"T_6f00c3ac_342c_11ea_be63_f8cab850e05blevel0_row0\" class=\"row_heading level0 row0\" >178</th>\n",
       "                        <th id=\"T_6f00c3ac_342c_11ea_be63_f8cab850e05blevel1_row0\" class=\"row_heading level1 row0\" >Oathbreaker, Last Hope of the Breaking Storm</th>\n",
       "                        <td id=\"T_6f00c3ac_342c_11ea_be63_f8cab850e05brow0_col0\" class=\"data row0 col0\" >12</td>\n",
       "                        <td id=\"T_6f00c3ac_342c_11ea_be63_f8cab850e05brow0_col1\" class=\"data row0 col1\" >$4.23</td>\n",
       "                        <td id=\"T_6f00c3ac_342c_11ea_be63_f8cab850e05brow0_col2\" class=\"data row0 col2\" >$50.76</td>\n",
       "            </tr>\n",
       "            <tr>\n",
       "                        <th id=\"T_6f00c3ac_342c_11ea_be63_f8cab850e05blevel0_row1\" class=\"row_heading level0 row1\" >145</th>\n",
       "                        <th id=\"T_6f00c3ac_342c_11ea_be63_f8cab850e05blevel1_row1\" class=\"row_heading level1 row1\" >Fiery Glass Crusader</th>\n",
       "                        <td id=\"T_6f00c3ac_342c_11ea_be63_f8cab850e05brow1_col0\" class=\"data row1 col0\" >9</td>\n",
       "                        <td id=\"T_6f00c3ac_342c_11ea_be63_f8cab850e05brow1_col1\" class=\"data row1 col1\" >$4.58</td>\n",
       "                        <td id=\"T_6f00c3ac_342c_11ea_be63_f8cab850e05brow1_col2\" class=\"data row1 col2\" >$41.22</td>\n",
       "            </tr>\n",
       "            <tr>\n",
       "                        <th id=\"T_6f00c3ac_342c_11ea_be63_f8cab850e05blevel0_row2\" class=\"row_heading level0 row2\" >108</th>\n",
       "                        <th id=\"T_6f00c3ac_342c_11ea_be63_f8cab850e05blevel1_row2\" class=\"row_heading level1 row2\" >Extraction, Quickblade Of Trembling Hands</th>\n",
       "                        <td id=\"T_6f00c3ac_342c_11ea_be63_f8cab850e05brow2_col0\" class=\"data row2 col0\" >9</td>\n",
       "                        <td id=\"T_6f00c3ac_342c_11ea_be63_f8cab850e05brow2_col1\" class=\"data row2 col1\" >$3.53</td>\n",
       "                        <td id=\"T_6f00c3ac_342c_11ea_be63_f8cab850e05brow2_col2\" class=\"data row2 col2\" >$31.77</td>\n",
       "            </tr>\n",
       "            <tr>\n",
       "                        <th id=\"T_6f00c3ac_342c_11ea_be63_f8cab850e05blevel0_row3\" class=\"row_heading level0 row3\" >82</th>\n",
       "                        <th id=\"T_6f00c3ac_342c_11ea_be63_f8cab850e05blevel1_row3\" class=\"row_heading level1 row3\" >Nirvana</th>\n",
       "                        <td id=\"T_6f00c3ac_342c_11ea_be63_f8cab850e05brow3_col0\" class=\"data row3 col0\" >9</td>\n",
       "                        <td id=\"T_6f00c3ac_342c_11ea_be63_f8cab850e05brow3_col1\" class=\"data row3 col1\" >$4.90</td>\n",
       "                        <td id=\"T_6f00c3ac_342c_11ea_be63_f8cab850e05brow3_col2\" class=\"data row3 col2\" >$44.10</td>\n",
       "            </tr>\n",
       "            <tr>\n",
       "                        <th id=\"T_6f00c3ac_342c_11ea_be63_f8cab850e05blevel0_row4\" class=\"row_heading level0 row4\" >19</th>\n",
       "                        <th id=\"T_6f00c3ac_342c_11ea_be63_f8cab850e05blevel1_row4\" class=\"row_heading level1 row4\" >Pursuit, Cudgel of Necromancy</th>\n",
       "                        <td id=\"T_6f00c3ac_342c_11ea_be63_f8cab850e05brow4_col0\" class=\"data row4 col0\" >8</td>\n",
       "                        <td id=\"T_6f00c3ac_342c_11ea_be63_f8cab850e05brow4_col1\" class=\"data row4 col1\" >$1.02</td>\n",
       "                        <td id=\"T_6f00c3ac_342c_11ea_be63_f8cab850e05brow4_col2\" class=\"data row4 col2\" >$8.16</td>\n",
       "            </tr>\n",
       "    </tbody></table>"
      ],
      "text/plain": [
       "<pandas.io.formats.style.Styler at 0x1a7d8c17088>"
      ]
     },
     "execution_count": 15,
     "metadata": {},
     "output_type": "execute_result"
    }
   ],
   "source": [
    "items = purchase_data[[\"Item ID\", \"Item Name\", \"Price\"]]\n",
    "items_grouped = items.groupby([\"Item ID\", \"Item Name\"])\n",
    "item_purchase_count = items_grouped[\"Item Name\"].count()\n",
    "tpv = items_grouped[\"Price\"].sum()\n",
    "item_price = tpv / item_purchase_count\n",
    "most_popular_items = pd.DataFrame({\"Purchase Count\": item_purchase_count, \"Item Price\": item_price,\"Total Purchase Value\":tpv})\n",
    "popular_formatted = most_popular_items.sort_values([\"Purchase Count\"], ascending=False).head()\n",
    "popular_formatted.style.format({\"Item Price\":\"${:,.2f}\",\"Total Purchase Value\":\"${:,.2f}\"})"
   ]
  },
  {
   "cell_type": "code",
   "execution_count": null,
   "metadata": {},
   "outputs": [],
   "source": []
  },
  {
   "cell_type": "markdown",
   "metadata": {},
   "source": [
    "## Most Profitable Items"
   ]
  },
  {
   "cell_type": "markdown",
   "metadata": {},
   "source": [
    "* Sort the above table by total purchase value in descending order\n",
    "\n",
    "\n",
    "* Optional: give the displayed data cleaner formatting\n",
    "\n",
    "\n",
    "* Display a preview of the data frame\n",
    "\n"
   ]
  },
  {
   "cell_type": "code",
   "execution_count": 16,
   "metadata": {},
   "outputs": [
    {
     "data": {
      "text/html": [
       "<style  type=\"text/css\" >\n",
       "</style><table id=\"T_71323208_342c_11ea_820a_f8cab850e05b\" ><thead>    <tr>        <th class=\"blank\" ></th>        <th class=\"blank level0\" ></th>        <th class=\"col_heading level0 col0\" >Purchase Count</th>        <th class=\"col_heading level0 col1\" >Item Price</th>        <th class=\"col_heading level0 col2\" >Total Purchase Value</th>    </tr>    <tr>        <th class=\"index_name level0\" >Item ID</th>        <th class=\"index_name level1\" >Item Name</th>        <th class=\"blank\" ></th>        <th class=\"blank\" ></th>        <th class=\"blank\" ></th>    </tr></thead><tbody>\n",
       "                <tr>\n",
       "                        <th id=\"T_71323208_342c_11ea_820a_f8cab850e05blevel0_row0\" class=\"row_heading level0 row0\" >178</th>\n",
       "                        <th id=\"T_71323208_342c_11ea_820a_f8cab850e05blevel1_row0\" class=\"row_heading level1 row0\" >Oathbreaker, Last Hope of the Breaking Storm</th>\n",
       "                        <td id=\"T_71323208_342c_11ea_820a_f8cab850e05brow0_col0\" class=\"data row0 col0\" >12</td>\n",
       "                        <td id=\"T_71323208_342c_11ea_820a_f8cab850e05brow0_col1\" class=\"data row0 col1\" >$4.23</td>\n",
       "                        <td id=\"T_71323208_342c_11ea_820a_f8cab850e05brow0_col2\" class=\"data row0 col2\" >$50.76</td>\n",
       "            </tr>\n",
       "            <tr>\n",
       "                        <th id=\"T_71323208_342c_11ea_820a_f8cab850e05blevel0_row1\" class=\"row_heading level0 row1\" >82</th>\n",
       "                        <th id=\"T_71323208_342c_11ea_820a_f8cab850e05blevel1_row1\" class=\"row_heading level1 row1\" >Nirvana</th>\n",
       "                        <td id=\"T_71323208_342c_11ea_820a_f8cab850e05brow1_col0\" class=\"data row1 col0\" >9</td>\n",
       "                        <td id=\"T_71323208_342c_11ea_820a_f8cab850e05brow1_col1\" class=\"data row1 col1\" >$4.90</td>\n",
       "                        <td id=\"T_71323208_342c_11ea_820a_f8cab850e05brow1_col2\" class=\"data row1 col2\" >$44.10</td>\n",
       "            </tr>\n",
       "            <tr>\n",
       "                        <th id=\"T_71323208_342c_11ea_820a_f8cab850e05blevel0_row2\" class=\"row_heading level0 row2\" >145</th>\n",
       "                        <th id=\"T_71323208_342c_11ea_820a_f8cab850e05blevel1_row2\" class=\"row_heading level1 row2\" >Fiery Glass Crusader</th>\n",
       "                        <td id=\"T_71323208_342c_11ea_820a_f8cab850e05brow2_col0\" class=\"data row2 col0\" >9</td>\n",
       "                        <td id=\"T_71323208_342c_11ea_820a_f8cab850e05brow2_col1\" class=\"data row2 col1\" >$4.58</td>\n",
       "                        <td id=\"T_71323208_342c_11ea_820a_f8cab850e05brow2_col2\" class=\"data row2 col2\" >$41.22</td>\n",
       "            </tr>\n",
       "            <tr>\n",
       "                        <th id=\"T_71323208_342c_11ea_820a_f8cab850e05blevel0_row3\" class=\"row_heading level0 row3\" >92</th>\n",
       "                        <th id=\"T_71323208_342c_11ea_820a_f8cab850e05blevel1_row3\" class=\"row_heading level1 row3\" >Final Critic</th>\n",
       "                        <td id=\"T_71323208_342c_11ea_820a_f8cab850e05brow3_col0\" class=\"data row3 col0\" >8</td>\n",
       "                        <td id=\"T_71323208_342c_11ea_820a_f8cab850e05brow3_col1\" class=\"data row3 col1\" >$4.88</td>\n",
       "                        <td id=\"T_71323208_342c_11ea_820a_f8cab850e05brow3_col2\" class=\"data row3 col2\" >$39.04</td>\n",
       "            </tr>\n",
       "            <tr>\n",
       "                        <th id=\"T_71323208_342c_11ea_820a_f8cab850e05blevel0_row4\" class=\"row_heading level0 row4\" >103</th>\n",
       "                        <th id=\"T_71323208_342c_11ea_820a_f8cab850e05blevel1_row4\" class=\"row_heading level1 row4\" >Singed Scalpel</th>\n",
       "                        <td id=\"T_71323208_342c_11ea_820a_f8cab850e05brow4_col0\" class=\"data row4 col0\" >8</td>\n",
       "                        <td id=\"T_71323208_342c_11ea_820a_f8cab850e05brow4_col1\" class=\"data row4 col1\" >$4.35</td>\n",
       "                        <td id=\"T_71323208_342c_11ea_820a_f8cab850e05brow4_col2\" class=\"data row4 col2\" >$34.80</td>\n",
       "            </tr>\n",
       "    </tbody></table>"
      ],
      "text/plain": [
       "<pandas.io.formats.style.Styler at 0x1a7d82c45c8>"
      ]
     },
     "execution_count": 16,
     "metadata": {},
     "output_type": "execute_result"
    }
   ],
   "source": [
    "popular_formatted = most_popular_items.sort_values([\"Total Purchase Value\"],ascending=False).head()\n",
    "popular_formatted.style.format({\"Item Price\":\"${:,.2f}\",\"Total Purchase Value\":\"${:,.2f}\"})"
   ]
  },
  {
   "cell_type": "code",
   "execution_count": null,
   "metadata": {
    "scrolled": true
   },
   "outputs": [],
   "source": []
  }
 ],
 "metadata": {
  "anaconda-cloud": {},
  "kernel_info": {
   "name": "python3"
  },
  "kernelspec": {
   "display_name": "Python 3",
   "language": "python",
   "name": "python3"
  },
  "language_info": {
   "codemirror_mode": {
    "name": "ipython",
    "version": 3
   },
   "file_extension": ".py",
   "mimetype": "text/x-python",
   "name": "python",
   "nbconvert_exporter": "python",
   "pygments_lexer": "ipython3",
   "version": "3.7.4"
  },
  "latex_envs": {
   "LaTeX_envs_menu_present": true,
   "autoclose": false,
   "autocomplete": true,
   "bibliofile": "biblio.bib",
   "cite_by": "apalike",
   "current_citInitial": 1,
   "eqLabelWithNumbers": true,
   "eqNumInitial": 1,
   "hotkeys": {
    "equation": "Ctrl-E",
    "itemize": "Ctrl-I"
   },
   "labels_anchors": false,
   "latex_user_defs": false,
   "report_style_numbering": false,
   "user_envs_cfg": false
  },
  "nteract": {
   "version": "0.2.0"
  }
 },
 "nbformat": 4,
 "nbformat_minor": 2
}
